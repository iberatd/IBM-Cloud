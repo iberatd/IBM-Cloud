{
    "cells": [
        {
            "cell_type": "markdown",
            "metadata": {
                "collapsed": true
            },
            "source": "# My Jupyter Notebook on IBM Watson Studio"
        },
        {
            "cell_type": "markdown",
            "metadata": {},
            "source": "**\u0130smail Berat D\u00fczenli**<br>\nData Scientist"
        },
        {
            "cell_type": "markdown",
            "metadata": {},
            "source": "*I am interested in data science because I believe human perceptions can be misleading when it is not supported by data and only based on observation. To find example there is no need to research much, people tought that world is flat for centuries which was based on observation and seem reasonable until collecting correct information to find facts*"
        },
        {
            "cell_type": "markdown",
            "metadata": {},
            "source": "## Next cell calculates 1+1"
        },
        {
            "cell_type": "code",
            "execution_count": 1,
            "metadata": {},
            "outputs": [
                {
                    "data": {
                        "text/plain": "2"
                    },
                    "execution_count": 1,
                    "metadata": {},
                    "output_type": "execute_result"
                }
            ],
            "source": "1+1"
        },
        {
            "cell_type": "markdown",
            "metadata": {},
            "source": "* bullet\n* bullet\n* bullet\n\n1. ordered\n2. ordered\n3. ordered\n\n*****\n\nHorizontal Rule\n\n***\n\nHorizontal Rule\n\n***\n\nHorizontal Rule\n\n*****"
        },
        {
            "cell_type": "code",
            "execution_count": null,
            "metadata": {},
            "outputs": [],
            "source": ""
        }
    ],
    "metadata": {
        "kernelspec": {
            "display_name": "Python 3.9",
            "language": "python",
            "name": "python3"
        },
        "language_info": {
            "codemirror_mode": {
                "name": "ipython",
                "version": 3
            },
            "file_extension": ".py",
            "mimetype": "text/x-python",
            "name": "python",
            "nbconvert_exporter": "python",
            "pygments_lexer": "ipython3",
            "version": "3.9.12"
        }
    },
    "nbformat": 4,
    "nbformat_minor": 1
}
