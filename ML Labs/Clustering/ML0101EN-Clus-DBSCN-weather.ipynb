{
  "cells": [
    {
      "cell_type": "markdown",
      "metadata": {
        "id": "8fYGSoOrNZ_g"
      },
      "source": [
        "<p style=\"text-align:center\">\n",
        "    <a href=\"https://skills.network/?utm_medium=Exinfluencer&utm_source=Exinfluencer&utm_content=000026UJ&utm_term=10006555&utm_id=NA-SkillsNetwork-Channel-SkillsNetworkCoursesIBMDeveloperSkillsNetworkML0101ENSkillsNetwork20718538-2022-01-01\" target=\"_blank\">\n",
        "    <img src=\"https://cf-courses-data.s3.us.cloud-object-storage.appdomain.cloud/assets/logos/SN_web_lightmode.png\" width=\"200\" alt=\"Skills Network Logo\"  />\n",
        "    </a>\n",
        "</p>\n",
        "\n",
        "# Density-Based Clustering\n",
        "\n",
        "Estimated time needed: **25** minutes\n",
        "\n",
        "## Objectives\n",
        "\n",
        "After completing this lab you will be able to:\n",
        "\n",
        "*   Use DBSCAN to do Density based clustering\n",
        "*   Use Matplotlib to plot clusters\n"
      ]
    },
    {
      "cell_type": "markdown",
      "metadata": {
        "id": "Enr4XnDaNZ_l"
      },
      "source": [
        "Most of the traditional clustering techniques, such as k-means, hierarchical and fuzzy clustering, can be used to group data without supervision.\n",
        "\n",
        "However, when applied to tasks with arbitrary shape clusters, or clusters within a cluster, the traditional techniques might be unable to achieve good results. That is, elements in the same cluster might not share enough similarity or the performance may be poor.\n",
        "Additionally, Density-based clustering locates regions of high density that are separated from one another by regions of low density. Density, in this context, is defined as the number of points within a specified radius.\n",
        "\n",
        "In this section, the main focus will be manipulating the data and properties of DBSCAN and observing the resulting clustering.\n"
      ]
    },
    {
      "cell_type": "markdown",
      "metadata": {
        "id": "760Gi8XmNZ_m"
      },
      "source": [
        "Import the following libraries:\n",
        "\n",
        "<ul>\n",
        "    <li> <b>numpy as np</b> </li>\n",
        "    <li> <b>DBSCAN</b> from <b>sklearn.cluster</b> </li>\n",
        "    <li> <b>make_blobs</b> from <b>sklearn.datasets.samples_generator</b> </li>\n",
        "    <li> <b>StandardScaler</b> from <b>sklearn.preprocessing</b> </li>\n",
        "    <li> <b>matplotlib.pyplot as plt</b> </li>\n",
        "</ul> <br>\n",
        "Remember <b> %matplotlib inline </b> to display plots\n"
      ]
    },
    {
      "cell_type": "code",
      "execution_count": 1,
      "metadata": {
        "id": "zugWs6yONZ_n",
        "outputId": "e39a7272-6c3b-430b-a217-f71a00a87e6c",
        "colab": {
          "base_uri": "https://localhost:8080/"
        }
      },
      "outputs": [
        {
          "output_type": "stream",
          "name": "stdout",
          "text": [
            "Looking in indexes: https://pypi.org/simple, https://us-python.pkg.dev/colab-wheels/public/simple/\n",
            "\u001b[31mERROR: Could not find a version that satisfies the requirement basemap==1.2.0 (from versions: 1.3.0b1, 1.3.0rc1, 1.3.0, 1.3.1, 1.3.2, 1.3.3, 1.3.4)\u001b[0m\n",
            "\u001b[31mERROR: No matching distribution found for basemap==1.2.0\u001b[0m\n"
          ]
        }
      ],
      "source": [
        "# Notice: For visualization of map, you need basemap package.\n",
        "# if you dont have basemap install on your machine, you can use the following line to install it\n",
        "!pip install basemap==1.2.0 matplotlib==3.1\n",
        "# Notice: you maight have to refresh your page and re-run the notebook after installation"
      ]
    },
    {
      "cell_type": "code",
      "execution_count": 2,
      "metadata": {
        "id": "z1VhXzghNZ_o"
      },
      "outputs": [],
      "source": [
        "import numpy as np \n",
        "from sklearn.cluster import DBSCAN \n",
        "from sklearn.datasets import make_blobs \n",
        "from sklearn.preprocessing import StandardScaler \n",
        "import matplotlib.pyplot as plt \n",
        "%matplotlib inline\n",
        "import warnings\n",
        "warnings.filterwarnings(\"ignore\", category=DeprecationWarning)"
      ]
    },
    {
      "cell_type": "markdown",
      "metadata": {
        "id": "bAlNmLgBNZ_p"
      },
      "source": [
        "### Data generation\n",
        "\n",
        "The function below will generate the data points and requires these inputs:\n",
        "\n",
        "<ul>\n",
        "    <li> <b>centroidLocation</b>: Coordinates of the centroids that will generate the random data. </li>\n",
        "    <ul> <li> Example: input: [[4,3], [2,-1], [-1,4]] </li> </ul>\n",
        "    <li> <b>numSamples</b>: The number of data points we want generated, split over the number of centroids (# of centroids defined in centroidLocation) </li>\n",
        "    <ul> <li> Example: 1500 </li> </ul>\n",
        "    <li> <b>clusterDeviation</b>: The standard deviation of the clusters. The larger the number, the further the spacing of the data points within the clusters. </li>\n",
        "    <ul> <li> Example: 0.5 </li> </ul>\n",
        "</ul>\n"
      ]
    },
    {
      "cell_type": "code",
      "execution_count": 3,
      "metadata": {
        "id": "kBCAwcAUNZ_q"
      },
      "outputs": [],
      "source": [
        "def createDataPoints(centroidLocation, numSamples, clusterDeviation):\n",
        "    # Create random data and store in feature matrix X and response vector y.\n",
        "    X, y = make_blobs(n_samples=numSamples, centers=centroidLocation, \n",
        "                                cluster_std=clusterDeviation)\n",
        "    \n",
        "    # Standardize features by removing the mean and scaling to unit variance\n",
        "    X = StandardScaler().fit_transform(X)\n",
        "    return X, y"
      ]
    },
    {
      "cell_type": "markdown",
      "metadata": {
        "id": "rbYY6YDkNZ_s"
      },
      "source": [
        "Use <b>createDataPoints</b> with the <b>3 inputs</b> and store the output into variables <b>X</b> and <b>y</b>.\n"
      ]
    },
    {
      "cell_type": "code",
      "execution_count": 4,
      "metadata": {
        "id": "WPj7EiMFNZ_s"
      },
      "outputs": [],
      "source": [
        "X, y = createDataPoints([[4,3], [2,-1], [-1,4]] , 1500, 0.5)"
      ]
    },
    {
      "cell_type": "markdown",
      "metadata": {
        "id": "0W6Lr3FDNZ_t"
      },
      "source": [
        "### Modeling\n",
        "\n",
        "DBSCAN stands for Density-Based Spatial Clustering of Applications with Noise. This technique is one of the most common clustering algorithms  which works based on density of object.\n",
        "The whole idea is that if a particular point belongs to a cluster, it should be near to lots of other points in that cluster.\n",
        "\n",
        "It works based on two parameters: Epsilon and Minimum Points\\\n",
        "**Epsilon** determine a specified radius that if includes enough number of points within, we call it dense area\\\n",
        "**minimumSamples** determine the minimum number of data points we want in a neighborhood to define a cluster.\n"
      ]
    },
    {
      "cell_type": "code",
      "execution_count": 5,
      "metadata": {
        "id": "03D6PGNBNZ_u",
        "outputId": "0f431df0-7093-4d09-d6ee-9e04282e328e",
        "colab": {
          "base_uri": "https://localhost:8080/"
        }
      },
      "outputs": [
        {
          "output_type": "execute_result",
          "data": {
            "text/plain": [
              "array([0, 0, 1, ..., 0, 0, 2])"
            ]
          },
          "metadata": {},
          "execution_count": 5
        }
      ],
      "source": [
        "epsilon = 0.3\n",
        "minimumSamples = 7\n",
        "db = DBSCAN(eps=epsilon, min_samples=minimumSamples).fit(X)\n",
        "labels = db.labels_\n",
        "labels"
      ]
    },
    {
      "cell_type": "markdown",
      "metadata": {
        "id": "DBh9urRXNZ_v"
      },
      "source": [
        "### Distinguish outliers\n",
        "\n",
        "Let's Replace all elements with 'True' in core_samples_mask that are in the cluster, 'False' if the points are outliers.\n"
      ]
    },
    {
      "cell_type": "code",
      "execution_count": 6,
      "metadata": {
        "id": "ej0dbvW-NZ_v",
        "outputId": "cdc87ec2-e63e-4201-8f64-a2a424ae0f62",
        "colab": {
          "base_uri": "https://localhost:8080/"
        }
      },
      "outputs": [
        {
          "output_type": "execute_result",
          "data": {
            "text/plain": [
              "array([ True,  True,  True, ...,  True,  True,  True])"
            ]
          },
          "metadata": {},
          "execution_count": 6
        }
      ],
      "source": [
        "# Firts, create an array of booleans using the labels from db.\n",
        "core_samples_mask = np.zeros_like(db.labels_, dtype=bool)\n",
        "core_samples_mask[db.core_sample_indices_] = True\n",
        "core_samples_mask"
      ]
    },
    {
      "cell_type": "code",
      "execution_count": 7,
      "metadata": {
        "id": "pescpl6LNZ_v",
        "outputId": "a920e87a-6904-4987-bd16-19a40896dade",
        "colab": {
          "base_uri": "https://localhost:8080/"
        }
      },
      "outputs": [
        {
          "output_type": "execute_result",
          "data": {
            "text/plain": [
              "3"
            ]
          },
          "metadata": {},
          "execution_count": 7
        }
      ],
      "source": [
        "# Number of clusters in labels, ignoring noise if present.\n",
        "n_clusters_ = len(set(labels)) - (1 if -1 in labels else 0)\n",
        "n_clusters_"
      ]
    },
    {
      "cell_type": "code",
      "execution_count": 8,
      "metadata": {
        "id": "yTXgEjX4NZ_w",
        "outputId": "4b8f9550-6c0b-4199-f098-e4be280e08c8",
        "colab": {
          "base_uri": "https://localhost:8080/"
        }
      },
      "outputs": [
        {
          "output_type": "execute_result",
          "data": {
            "text/plain": [
              "{-1, 0, 1, 2}"
            ]
          },
          "metadata": {},
          "execution_count": 8
        }
      ],
      "source": [
        "# Remove repetition in labels by turning it into a set.\n",
        "unique_labels = set(labels)\n",
        "unique_labels"
      ]
    },
    {
      "cell_type": "markdown",
      "metadata": {
        "id": "ohkrqo9TNZ_w"
      },
      "source": [
        "### Data visualization\n"
      ]
    },
    {
      "cell_type": "code",
      "execution_count": 9,
      "metadata": {
        "id": "nj_gwWDGNZ_x"
      },
      "outputs": [],
      "source": [
        "# Create colors for the clusters.\n",
        "colors = plt.cm.Spectral(np.linspace(0, 1, len(unique_labels)))\n"
      ]
    },
    {
      "cell_type": "code",
      "execution_count": 10,
      "metadata": {
        "scrolled": true,
        "id": "0h-CdCMsNZ_x",
        "outputId": "fdb223fe-b686-4052-de8a-954e1287b3b9",
        "colab": {
          "base_uri": "https://localhost:8080/",
          "height": 265
        }
      },
      "outputs": [
        {
          "output_type": "display_data",
          "data": {
            "text/plain": [
              "<Figure size 432x288 with 1 Axes>"
            ],
            "image/png": "[encoded data removed]"
          },
          "metadata": {
            "needs_background": "light"
          }
        }
      ],
      "source": [
        "# Plot the points with colors\n",
        "for k, col in zip(unique_labels, colors):\n",
        "    if k == -1:\n",
        "        # Black used for noise.\n",
        "        col = 'k'\n",
        "\n",
        "    class_member_mask = (labels == k)\n",
        "\n",
        "    # Plot the datapoints that are clustered\n",
        "    xy = X[class_member_mask & core_samples_mask]\n",
        "    plt.scatter(xy[:, 0], xy[:, 1],s=50, c=[col], marker=u'o', alpha=0.5)\n",
        "\n",
        "    # Plot the outliers\n",
        "    xy = X[class_member_mask & ~core_samples_mask]\n",
        "    plt.scatter(xy[:, 0], xy[:, 1],s=50, c=[col], marker=u'o', alpha=0.5)"
      ]
    },
    {
      "cell_type": "markdown",
      "metadata": {
        "id": "6qCXe_WWNZ_y"
      },
      "source": [
        "## Practice\n",
        "\n",
        "To better understand differences between partitional and density-based clustering, try to cluster the above dataset into 3 clusters using k-Means.\\\n",
        "Notice: do not generate data again, use the same dataset as above.\n"
      ]
    },
    {
      "cell_type": "code",
      "execution_count": 14,
      "metadata": {
        "id": "ksJZbuRHNZ_y",
        "outputId": "a4554454-9ce7-496c-a08d-f6f7618e6c53",
        "colab": {
          "base_uri": "https://localhost:8080/",
          "height": 337
        }
      },
      "outputs": [
        {
          "output_type": "stream",
          "name": "stderr",
          "text": [
            "WARNING:matplotlib.axes._axes:*c* argument looks like a single numeric RGB or RGBA sequence, which should be avoided as value-mapping will have precedence in case its length matches with *x* & *y*.  Please use the *color* keyword-argument or provide a 2-D array with a single row if you intend to specify the same RGB or RGBA value for all points.\n",
            "WARNING:matplotlib.axes._axes:*c* argument looks like a single numeric RGB or RGBA sequence, which should be avoided as value-mapping will have precedence in case its length matches with *x* & *y*.  Please use the *color* keyword-argument or provide a 2-D array with a single row if you intend to specify the same RGB or RGBA value for all points.\n",
            "WARNING:matplotlib.axes._axes:*c* argument looks like a single numeric RGB or RGBA sequence, which should be avoided as value-mapping will have precedence in case its length matches with *x* & *y*.  Please use the *color* keyword-argument or provide a 2-D array with a single row if you intend to specify the same RGB or RGBA value for all points.\n"
          ]
        },
        {
          "output_type": "display_data",
          "data": {
            "text/plain": [
              "<Figure size 432x288 with 1 Axes>"
            ],
            "image/png": "[encoded data removed]"
          },
          "metadata": {
            "needs_background": "light"
          }
        }
      ],
      "source": [
        "# write your code here\n",
        "\n",
        "\n",
        "k=3\n",
        "from sklearn.cluster import KMeans\n",
        "kmeans = KMeans(n_clusters=k, random_state=0).fit(X)\n",
        "\n",
        "fig = plt.figure(figsize=(6, 4))\n",
        "ax = fig.add_subplot(1, 1, 1)\n",
        "for k, col in zip(range(k), colors):\n",
        "    my_members = (kmeans.labels_ == k)\n",
        "    plt.scatter(X[my_members, 0], X[my_members, 1],  c=col, marker=u'o', alpha=0.5)\n",
        "plt.show()"
      ]
    },
    {
      "cell_type": "markdown",
      "metadata": {
        "id": "3ZOCzXw-NZ_y"
      },
      "source": [
        "<details><summary>Click here for the solution</summary>\n",
        "\n",
        "```python\n",
        "from sklearn.cluster import KMeans \n",
        "k = 3\n",
        "k_means3 = KMeans(init = \"k-means++\", n_clusters = k, n_init = 12)\n",
        "k_means3.fit(X)\n",
        "fig = plt.figure(figsize=(6, 4))\n",
        "ax = fig.add_subplot(1, 1, 1)\n",
        "for k, col in zip(range(k), colors):\n",
        "    my_members = (k_means3.labels_ == k)\n",
        "    plt.scatter(X[my_members, 0], X[my_members, 1],  c=col, marker=u'o', alpha=0.5)\n",
        "plt.show()\n",
        "\n",
        "```\n",
        "\n",
        "</details>\n"
      ]
    },
    {
      "cell_type": "markdown",
      "metadata": {
        "id": "Y2Qg8_YpNZ_0"
      },
      "source": [
        "<h1 align=center> Weather Station Clustering using DBSCAN & scikit-learn </h1>\n",
        "<hr>\n",
        "\n",
        "DBSCAN is especially very good for tasks like class identification in a spatial context. The wonderful attribute of DBSCAN algorithm is that it can find out any arbitrary shape cluster without getting affected by noise. For example, this following example cluster the location of weather stations in Canada.\n",
        "\\<Click 1>\n",
        "DBSCAN can be used here, for instance, to find the group of stations which show the same weather condition. As you can see, it not only finds different arbitrary shaped clusters, can find the denser part of data-centered samples by ignoring less-dense areas or noises.\n",
        "\n",
        "Let's start playing with the data. We will be working according to the following workflow: </font>\n",
        "\n",
        "1.  Loading data\n",
        "\n",
        "*   Overview data\n",
        "*   Data cleaning\n",
        "*   Data selection\n",
        "*   Clusteing\n"
      ]
    },
    {
      "cell_type": "markdown",
      "metadata": {
        "id": "8HqcoYWHNZ_0"
      },
      "source": [
        "### About the dataset\n",
        "\n",
        "<h4 align = \"center\">\n",
        "Environment Canada    \n",
        "Monthly Values for July - 2015\t\n",
        "</h4>\n",
        "<html>\n",
        "<head>\n",
        "<style>\n",
        "table {\n",
        "    font-family: arial, sans-serif;\n",
        "    border-collapse: collapse;\n",
        "    width: 100%;\n",
        "}\n",
        "\n",
        "td, th {\n",
        "border: 1px solid #dddddd;\n",
        "text-align: left;\n",
        "padding: 8px;\n",
        "}\n",
        "\n",
        "tr:nth-child(even) {\n",
        "background-color: #dddddd;\n",
        "} </style>\n",
        "\n",
        "</head>\n",
        "<body>\n",
        "\n",
        "<table>\n",
        "  <tr>\n",
        "    <th>Name in the table</th>\n",
        "    <th>Meaning</th>\n",
        "  </tr>\n",
        "  <tr>\n",
        "    <td><font color = \"green\"><strong>Stn_Name</font></td>\n",
        "    <td><font color = \"green\"><strong>Station Name</font</td>\n",
        "  </tr>\n",
        "  <tr>\n",
        "    <td><font color = \"green\"><strong>Lat</font></td>\n",
        "    <td><font color = \"green\"><strong>Latitude (North+, degrees)</font></td>\n",
        "  </tr>\n",
        "  <tr>\n",
        "    <td><font color = \"green\"><strong>Long</font></td>\n",
        "    <td><font color = \"green\"><strong>Longitude (West - , degrees)</font></td>\n",
        "  </tr>\n",
        "  <tr>\n",
        "    <td>Prov</td>\n",
        "    <td>Province</td>\n",
        "  </tr>\n",
        "  <tr>\n",
        "    <td>Tm</td>\n",
        "    <td>Mean Temperature (°C)</td>\n",
        "  </tr>\n",
        "  <tr>\n",
        "    <td>DwTm</td>\n",
        "    <td>Days without Valid Mean Temperature</td>\n",
        "  </tr>\n",
        "  <tr>\n",
        "    <td>D</td>\n",
        "    <td>Mean Temperature difference from Normal (1981-2010) (°C)</td>\n",
        "  </tr>\n",
        "  <tr>\n",
        "    <td><font color = \"black\">Tx</font></td>\n",
        "    <td><font color = \"black\">Highest Monthly Maximum Temperature (°C)</font></td>\n",
        "  </tr>\n",
        "  <tr>\n",
        "    <td>DwTx</td>\n",
        "    <td>Days without Valid Maximum Temperature</td>\n",
        "  </tr>\n",
        "  <tr>\n",
        "    <td><font color = \"black\">Tn</font></td>\n",
        "    <td><font color = \"black\">Lowest Monthly Minimum Temperature (°C)</font></td>\n",
        "  </tr>\n",
        "  <tr>\n",
        "    <td>DwTn</td>\n",
        "    <td>Days without Valid Minimum Temperature</td>\n",
        "  </tr>\n",
        "  <tr>\n",
        "    <td>S</td>\n",
        "    <td>Snowfall (cm)</td>\n",
        "  </tr>\n",
        "  <tr>\n",
        "    <td>DwS</td>\n",
        "    <td>Days without Valid Snowfall</td>\n",
        "  </tr>\n",
        "  <tr>\n",
        "    <td>S%N</td>\n",
        "    <td>Percent of Normal (1981-2010) Snowfall</td>\n",
        "  </tr>\n",
        "  <tr>\n",
        "    <td><font color = \"green\"><strong>P</font></td>\n",
        "    <td><font color = \"green\"><strong>Total Precipitation (mm)</font></td>\n",
        "  </tr>\n",
        "  <tr>\n",
        "    <td>DwP</td>\n",
        "    <td>Days without Valid Precipitation</td>\n",
        "  </tr>\n",
        "  <tr>\n",
        "    <td>P%N</td>\n",
        "    <td>Percent of Normal (1981-2010) Precipitation</td>\n",
        "  </tr>\n",
        "  <tr>\n",
        "    <td>S_G</td>\n",
        "    <td>Snow on the ground at the end of the month (cm)</td>\n",
        "  </tr>\n",
        "  <tr>\n",
        "    <td>Pd</td>\n",
        "    <td>Number of days with Precipitation 1.0 mm or more</td>\n",
        "  </tr>\n",
        "  <tr>\n",
        "    <td>BS</td>\n",
        "    <td>Bright Sunshine (hours)</td>\n",
        "  </tr>\n",
        "  <tr>\n",
        "    <td>DwBS</td>\n",
        "    <td>Days without Valid Bright Sunshine</td>\n",
        "  </tr>\n",
        "  <tr>\n",
        "    <td>BS%</td>\n",
        "    <td>Percent of Normal (1981-2010) Bright Sunshine</td>\n",
        "  </tr>\n",
        "  <tr>\n",
        "    <td>HDD</td>\n",
        "    <td>Degree Days below 18 °C</td>\n",
        "  </tr>\n",
        "  <tr>\n",
        "    <td>CDD</td>\n",
        "    <td>Degree Days above 18 °C</td>\n",
        "  </tr>\n",
        "  <tr>\n",
        "    <td>Stn_No</td>\n",
        "    <td>Climate station identifier (first 3 digits indicate   drainage basin, last 4 characters are for sorting alphabetically).</td>\n",
        "  </tr>\n",
        "  <tr>\n",
        "    <td>NA</td>\n",
        "    <td>Not Available</td>\n",
        "  </tr>\n",
        "\n",
        "</table>\n",
        "\n",
        "</body>\n",
        "</html>\n"
      ]
    },
    {
      "cell_type": "markdown",
      "metadata": {
        "id": "mJ2XghduNZ_1"
      },
      "source": [
        "### 1-Download data\n",
        "\n",
        "To download the data, we will use **`!wget`** to download it from IBM Object Storage.\\\n",
        "**Did you know?** When it comes to Machine Learning, you will likely be working with large datasets. As a business, where can you host your data? IBM is offering a unique opportunity for businesses, with 10 Tb of IBM Cloud Object Storage: [Sign up now for free](http://cocl.us/ML0101EN-IBM-Offer-CC)\n"
      ]
    },
    {
      "cell_type": "code",
      "execution_count": null,
      "metadata": {
        "id": "aqYZQtPnNZ_1"
      },
      "outputs": [],
      "source": [
        "!wget -O weather-stations20140101-20141231.csv https://cf-courses-data.s3.us.cloud-object-storage.appdomain.cloud/IBMDeveloperSkillsNetwork-ML0101EN-SkillsNetwork/labs/Module%204/data/weather-stations20140101-20141231.csv"
      ]
    },
    {
      "cell_type": "markdown",
      "metadata": {
        "id": "0huQlH6ANZ_1"
      },
      "source": [
        "### 2- Load the dataset\n",
        "\n",
        "We will import the .csv then we creates the columns for year, month and day.\n"
      ]
    },
    {
      "cell_type": "code",
      "execution_count": null,
      "metadata": {
        "id": "idQ4c4dLNZ_1"
      },
      "outputs": [],
      "source": [
        "import csv\n",
        "import pandas as pd\n",
        "import numpy as np\n",
        "\n",
        "filename='weather-stations20140101-20141231.csv'\n",
        "\n",
        "#Read csv\n",
        "pdf = pd.read_csv(filename)\n",
        "pdf.head(5)"
      ]
    },
    {
      "cell_type": "markdown",
      "metadata": {
        "id": "aSPkbV39NZ_2"
      },
      "source": [
        "### 3-Cleaning\n",
        "\n",
        "Let's remove rows that don't have any value in the **Tm** field.\n"
      ]
    },
    {
      "cell_type": "code",
      "execution_count": null,
      "metadata": {
        "id": "XlX2pcjENZ_2"
      },
      "outputs": [],
      "source": [
        "pdf = pdf[pd.notnull(pdf[\"Tm\"])]\n",
        "pdf = pdf.reset_index(drop=True)\n",
        "pdf.head(5)"
      ]
    },
    {
      "cell_type": "markdown",
      "metadata": {
        "id": "t7ibbsUeNZ_2"
      },
      "source": [
        "### 4-Visualization\n",
        "\n",
        "Visualization of stations on map using basemap package. The matplotlib basemap toolkit is a library for plotting 2D data on maps in Python. Basemap does not do any plotting on it’s own, but provides the facilities to transform coordinates to a map projections.\n",
        "\n",
        "Please notice that the size of each data points represents the average of maximum temperature for each station in a year.\n"
      ]
    },
    {
      "cell_type": "code",
      "execution_count": null,
      "metadata": {
        "id": "MwTZIA_rNZ_2"
      },
      "outputs": [],
      "source": [
        "from mpl_toolkits.basemap import Basemap\n",
        "import matplotlib.pyplot as plt\n",
        "from pylab import rcParams\n",
        "%matplotlib inline\n",
        "rcParams['figure.figsize'] = (14,10)\n",
        "\n",
        "llon=-140\n",
        "ulon=-50\n",
        "llat=40\n",
        "ulat=65\n",
        "\n",
        "pdf = pdf[(pdf['Long'] > llon) & (pdf['Long'] < ulon) & (pdf['Lat'] > llat) &(pdf['Lat'] < ulat)]\n",
        "\n",
        "my_map = Basemap(projection='merc',\n",
        "            resolution = 'l', area_thresh = 1000.0,\n",
        "            llcrnrlon=llon, llcrnrlat=llat, #min longitude (llcrnrlon) and latitude (llcrnrlat)\n",
        "            urcrnrlon=ulon, urcrnrlat=ulat) #max longitude (urcrnrlon) and latitude (urcrnrlat)\n",
        "\n",
        "my_map.drawcoastlines()\n",
        "my_map.drawcountries()\n",
        "# my_map.drawmapboundary()\n",
        "my_map.fillcontinents(color = 'white', alpha = 0.3)\n",
        "my_map.shadedrelief()\n",
        "\n",
        "# To collect data based on stations        \n",
        "\n",
        "xs,ys = my_map(np.asarray(pdf.Long), np.asarray(pdf.Lat))\n",
        "pdf['xm']= xs.tolist()\n",
        "pdf['ym'] =ys.tolist()\n",
        "\n",
        "#Visualization1\n",
        "for index,row in pdf.iterrows():\n",
        "#   x,y = my_map(row.Long, row.Lat)\n",
        "   my_map.plot(row.xm, row.ym,markerfacecolor =([1,0,0]),  marker='o', markersize= 5, alpha = 0.75)\n",
        "#plt.text(x,y,stn)\n",
        "plt.show()\n",
        "\n"
      ]
    },
    {
      "cell_type": "markdown",
      "metadata": {
        "id": "gKOwHIQgNZ_3"
      },
      "source": [
        "### 5- Clustering of stations based on their location i.e. Lat & Lon\n",
        "\n",
        "**DBSCAN** form sklearn library can run DBSCAN clustering from vector array or distance matrix. In our case, we pass it the Numpy array Clus_dataSet to find core samples of high density and expands clusters from them.\n"
      ]
    },
    {
      "cell_type": "code",
      "execution_count": null,
      "metadata": {
        "id": "5YcT_bQSNZ_3"
      },
      "outputs": [],
      "source": [
        "from sklearn.cluster import DBSCAN\n",
        "import sklearn.utils\n",
        "from sklearn.preprocessing import StandardScaler\n",
        "sklearn.utils.check_random_state(1000)\n",
        "Clus_dataSet = pdf[['xm','ym']]\n",
        "Clus_dataSet = np.nan_to_num(Clus_dataSet)\n",
        "Clus_dataSet = StandardScaler().fit_transform(Clus_dataSet)\n",
        "\n",
        "# Compute DBSCAN\n",
        "db = DBSCAN(eps=0.15, min_samples=10).fit(Clus_dataSet)\n",
        "core_samples_mask = np.zeros_like(db.labels_, dtype=bool)\n",
        "core_samples_mask[db.core_sample_indices_] = True\n",
        "labels = db.labels_\n",
        "pdf[\"Clus_Db\"]=labels\n",
        "\n",
        "realClusterNum=len(set(labels)) - (1 if -1 in labels else 0)\n",
        "clusterNum = len(set(labels)) \n",
        "\n",
        "\n",
        "# A sample of clusters\n",
        "pdf[[\"Stn_Name\",\"Tx\",\"Tm\",\"Clus_Db\"]].head(5)"
      ]
    },
    {
      "cell_type": "markdown",
      "metadata": {
        "id": "WVtA94mUNZ_3"
      },
      "source": [
        "As you can see for outliers, the cluster label is -1\n"
      ]
    },
    {
      "cell_type": "code",
      "execution_count": null,
      "metadata": {
        "id": "noN6K0bBNZ_3"
      },
      "outputs": [],
      "source": [
        "set(labels)"
      ]
    },
    {
      "cell_type": "markdown",
      "metadata": {
        "id": "rdRFXl2zNZ_4"
      },
      "source": [
        "### 6- Visualization of clusters based on location\n",
        "\n",
        "Now, we can visualize the clusters using basemap:\n"
      ]
    },
    {
      "cell_type": "code",
      "execution_count": null,
      "metadata": {
        "id": "EUoow0Q4NZ_4"
      },
      "outputs": [],
      "source": [
        "from mpl_toolkits.basemap import Basemap\n",
        "import matplotlib.pyplot as plt\n",
        "from pylab import rcParams\n",
        "%matplotlib inline\n",
        "rcParams['figure.figsize'] = (14,10)\n",
        "\n",
        "my_map = Basemap(projection='merc',\n",
        "            resolution = 'l', area_thresh = 1000.0,\n",
        "            llcrnrlon=llon, llcrnrlat=llat, #min longitude (llcrnrlon) and latitude (llcrnrlat)\n",
        "            urcrnrlon=ulon, urcrnrlat=ulat) #max longitude (urcrnrlon) and latitude (urcrnrlat)\n",
        "\n",
        "my_map.drawcoastlines()\n",
        "my_map.drawcountries()\n",
        "#my_map.drawmapboundary()\n",
        "my_map.fillcontinents(color = 'white', alpha = 0.3)\n",
        "my_map.shadedrelief()\n",
        "\n",
        "# To create a color map\n",
        "colors = plt.get_cmap('jet')(np.linspace(0.0, 1.0, clusterNum))\n",
        "\n",
        "\n",
        "\n",
        "#Visualization1\n",
        "for clust_number in set(labels):\n",
        "    c=(([0.4,0.4,0.4]) if clust_number == -1 else colors[np.int(clust_number)])\n",
        "    clust_set = pdf[pdf.Clus_Db == clust_number]                    \n",
        "    my_map.scatter(clust_set.xm, clust_set.ym, color =c,  marker='o', s= 20, alpha = 0.85)\n",
        "    if clust_number != -1:\n",
        "        cenx=np.mean(clust_set.xm) \n",
        "        ceny=np.mean(clust_set.ym) \n",
        "        plt.text(cenx,ceny,str(clust_number), fontsize=25, color='red',)\n",
        "        print (\"Cluster \"+str(clust_number)+', Avg Temp: '+ str(np.mean(clust_set.Tm)))"
      ]
    },
    {
      "cell_type": "markdown",
      "metadata": {
        "id": "oiyoJTxeNZ_4"
      },
      "source": [
        "### 7- Clustering of stations based on their location, mean, max, and min Temperature\n",
        "\n",
        "In this section we re-run DBSCAN, but this time on a 5-dimensional dataset:\n"
      ]
    },
    {
      "cell_type": "code",
      "execution_count": null,
      "metadata": {
        "scrolled": true,
        "id": "zNV2rqaNNZ_4"
      },
      "outputs": [],
      "source": [
        "from sklearn.cluster import DBSCAN\n",
        "import sklearn.utils\n",
        "from sklearn.preprocessing import StandardScaler\n",
        "sklearn.utils.check_random_state(1000)\n",
        "Clus_dataSet = pdf[['xm','ym','Tx','Tm','Tn']]\n",
        "Clus_dataSet = np.nan_to_num(Clus_dataSet)\n",
        "Clus_dataSet = StandardScaler().fit_transform(Clus_dataSet)\n",
        "\n",
        "# Compute DBSCAN\n",
        "db = DBSCAN(eps=0.3, min_samples=10).fit(Clus_dataSet)\n",
        "core_samples_mask = np.zeros_like(db.labels_, dtype=bool)\n",
        "core_samples_mask[db.core_sample_indices_] = True\n",
        "labels = db.labels_\n",
        "pdf[\"Clus_Db\"]=labels\n",
        "\n",
        "realClusterNum=len(set(labels)) - (1 if -1 in labels else 0)\n",
        "clusterNum = len(set(labels)) \n",
        "\n",
        "\n",
        "# A sample of clusters\n",
        "pdf[[\"Stn_Name\",\"Tx\",\"Tm\",\"Clus_Db\"]].head(5)"
      ]
    },
    {
      "cell_type": "markdown",
      "metadata": {
        "id": "uIuloFViNZ_5"
      },
      "source": [
        "### 8- Visualization of clusters based on location and Temperture\n"
      ]
    },
    {
      "cell_type": "code",
      "execution_count": null,
      "metadata": {
        "id": "g9nkaxI5NZ_5"
      },
      "outputs": [],
      "source": [
        "from mpl_toolkits.basemap import Basemap\n",
        "import matplotlib.pyplot as plt\n",
        "from pylab import rcParams\n",
        "%matplotlib inline\n",
        "rcParams['figure.figsize'] = (14,10)\n",
        "\n",
        "my_map = Basemap(projection='merc',\n",
        "            resolution = 'l', area_thresh = 1000.0,\n",
        "            llcrnrlon=llon, llcrnrlat=llat, #min longitude (llcrnrlon) and latitude (llcrnrlat)\n",
        "            urcrnrlon=ulon, urcrnrlat=ulat) #max longitude (urcrnrlon) and latitude (urcrnrlat)\n",
        "\n",
        "my_map.drawcoastlines()\n",
        "my_map.drawcountries()\n",
        "#my_map.drawmapboundary()\n",
        "my_map.fillcontinents(color = 'white', alpha = 0.3)\n",
        "my_map.shadedrelief()\n",
        "\n",
        "# To create a color map\n",
        "colors = plt.get_cmap('jet')(np.linspace(0.0, 1.0, clusterNum))\n",
        "\n",
        "\n",
        "\n",
        "#Visualization1\n",
        "for clust_number in set(labels):\n",
        "    c=(([0.4,0.4,0.4]) if clust_number == -1 else colors[np.int(clust_number)])\n",
        "    clust_set = pdf[pdf.Clus_Db == clust_number]                    \n",
        "    my_map.scatter(clust_set.xm, clust_set.ym, color =c,  marker='o', s= 20, alpha = 0.85)\n",
        "    if clust_number != -1:\n",
        "        cenx=np.mean(clust_set.xm) \n",
        "        ceny=np.mean(clust_set.ym) \n",
        "        plt.text(cenx,ceny,str(clust_number), fontsize=25, color='red',)\n",
        "        print (\"Cluster \"+str(clust_number)+', Avg Temp: '+ str(np.mean(clust_set.Tm)))"
      ]
    },
    {
      "cell_type": "markdown",
      "metadata": {
        "id": "Rwasn6k2NZ_5"
      },
      "source": [
        "<h2>Want to learn more?</h2>\n",
        "\n",
        "IBM SPSS Modeler is a comprehensive analytics platform that has many machine learning algorithms. It has been designed to bring predictive intelligence to decisions made by individuals, by groups, by systems – by your enterprise as a whole. A free trial is available through this course, available here: <a href=\"https://www.ibm.com/analytics/spss-statistics-software?utm_medium=Exinfluencer&utm_source=Exinfluencer&utm_content=000026UJ&utm_term=10006555&utm_id=NA-SkillsNetwork-Channel-SkillsNetworkCoursesIBMDeveloperSkillsNetworkML0101ENSkillsNetwork20718538-2022-01-01\">SPSS Modeler</a>\n",
        "\n",
        "Also, you can use Watson Studio to run these notebooks faster with bigger datasets. Watson Studio is IBM's leading cloud solution for data scientists, built by data scientists. With Jupyter notebooks, RStudio, Apache Spark and popular libraries pre-packaged in the cloud, Watson Studio enables data scientists to collaborate on their projects without having to install anything. Join the fast-growing community of Watson Studio users today with a free account at <a href=\"https://www.ibm.com/cloud/watson-studio?utm_medium=Exinfluencer&utm_source=Exinfluencer&utm_content=000026UJ&utm_term=10006555&utm_id=NA-SkillsNetwork-Channel-SkillsNetworkCoursesIBMDeveloperSkillsNetworkML0101ENSkillsNetwork20718538-2022-01-01\">Watson Studio</a>\n"
      ]
    },
    {
      "cell_type": "markdown",
      "metadata": {
        "id": "OHokbKFuNZ_5"
      },
      "source": [
        "### Thank you for completing this lab!\n",
        "\n",
        "## Author\n",
        "\n",
        "Saeed Aghabozorgi\n",
        "\n",
        "### Other Contributors\n",
        "\n",
        "<a href=\"https://www.linkedin.com/in/joseph-s-50398b136/?utm_medium=Exinfluencer&utm_source=Exinfluencer&utm_content=000026UJ&utm_term=10006555&utm_id=NA-SkillsNetwork-Channel-SkillsNetworkCoursesIBMDeveloperSkillsNetworkML0101ENSkillsNetwork20718538-2022-01-01\" target=\"_blank\">Joseph Santarcangelo</a>\n",
        "\n",
        "## Change Log\n",
        "\n",
        "| Date (YYYY-MM-DD) | Version | Changed By | Change Description                 |\n",
        "| ----------------- | ------- | ---------- | ---------------------------------- |\n",
        "| 2020-11-03        | 2.1     | Lakshmi    | Updated url of csv                 |\n",
        "| 2020-08-27        | 2.0     | Lavanya    | Moved lab to course repo in GitLab |\n",
        "|                   |         |            |                                    |\n",
        "|                   |         |            |                                    |\n",
        "\n",
        "## <h3 align=\"center\"> © IBM Corporation 2020. All rights reserved. <h3/>\n"
      ]
    }
  ],
  "metadata": {
    "kernelspec": {
      "display_name": "Python 3 (ipykernel)",
      "language": "python",
      "name": "python3"
    },
    "language_info": {
      "codemirror_mode": {
        "name": "ipython",
        "version": 3
      },
      "file_extension": ".py",
      "mimetype": "text/x-python",
      "name": "python",
      "nbconvert_exporter": "python",
      "pygments_lexer": "ipython3",
      "version": "3.7.6"
    },
    "colab": {
      "provenance": []
    }
  },
  "nbformat": 4,
  "nbformat_minor": 0
}